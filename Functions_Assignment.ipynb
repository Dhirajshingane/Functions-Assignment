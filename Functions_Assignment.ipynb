{
  "nbformat": 4,
  "nbformat_minor": 0,
  "metadata": {
    "colab": {
      "provenance": []
    },
    "kernelspec": {
      "name": "python3",
      "display_name": "Python 3"
    },
    "language_info": {
      "name": "python"
    }
  },
  "cells": [
    {
      "cell_type": "markdown",
      "source": [
        "# ***Functions Assignment***\n",
        "\n",
        "---\n"
      ],
      "metadata": {
        "id": "8XnBS7ly1xMJ"
      }
    },
    {
      "cell_type": "markdown",
      "source": [
        "1. What is the difference between a function and a method in Python?"
      ],
      "metadata": {
        "id": "44bpbxXF2TX8"
      }
    },
    {
      "cell_type": "markdown",
      "source": [
        "Ans ->\n",
        "\n",
        "Function: A block of reusable code that is not tied to an object. Defined using def.\n",
        "\n",
        "Method: A function that is associated with an object (typically a class instance).\n",
        "\n",
        "✅ Example:"
      ],
      "metadata": {
        "id": "EeImY8B-4NFZ"
      }
    },
    {
      "cell_type": "code",
      "source": [
        "# Function\n",
        "def greet():\n",
        "    return \"Hello\"\n",
        "\n",
        "# Method\n",
        "my_list = [1, 2, 3]\n",
        "my_list.append(4)  # append is a method\n"
      ],
      "metadata": {
        "id": "E8avZ-dd4iWY"
      },
      "execution_count": 5,
      "outputs": []
    },
    {
      "cell_type": "markdown",
      "source": [
        "2. Explain the concept of function arguments and parameters in Python."
      ],
      "metadata": {
        "id": "gEJ8WJ442UhY"
      }
    },
    {
      "cell_type": "markdown",
      "source": [
        "Ans ->\n",
        "\n",
        "Parameter: A variable in a function definition.\n",
        "\n",
        "Argument: A value passed to the function when it is called.\n",
        "\n",
        "✅ Example:"
      ],
      "metadata": {
        "id": "VqxY7T3s4sr2"
      }
    },
    {
      "cell_type": "code",
      "source": [
        "def add(a, b):  # a and b are parameters\n",
        "    return a + b\n",
        "\n",
        "add(2, 3)       # 2 and 3 are arguments\n"
      ],
      "metadata": {
        "colab": {
          "base_uri": "https://localhost:8080/"
        },
        "id": "WQh2Jdci4vrg",
        "outputId": "cfec182d-f7a4-42e7-8b56-ce65d03de7ff"
      },
      "execution_count": 2,
      "outputs": [
        {
          "output_type": "execute_result",
          "data": {
            "text/plain": [
              "5"
            ]
          },
          "metadata": {},
          "execution_count": 2
        }
      ]
    },
    {
      "cell_type": "markdown",
      "source": [
        "3. What are the different ways to define and call a function in Python?"
      ],
      "metadata": {
        "id": "WT58zbX32XQI"
      }
    },
    {
      "cell_type": "markdown",
      "source": [
        "Ans ->\n",
        "\n",
        "Ways to define:\n",
        "Using def keyword.\n",
        "\n",
        "Using lambda expression.\n",
        "\n",
        "Ways to call:\n",
        "Direct call by name.\n",
        "\n",
        "Via function pointer.\n",
        "\n",
        "Using *args and **kwargs.\n",
        "\n",
        "✅ Example:\n",
        "\n",
        "\n"
      ],
      "metadata": {
        "id": "TN_ow_Uy416u"
      }
    },
    {
      "cell_type": "code",
      "source": [
        "def greet(name):        # defining\n",
        "    return \"Hi \" + name\n",
        "\n",
        "greet(\"Dhiraj\")         # direct call\n",
        "\n",
        "f = greet\n",
        "f(\"Ravi\")               # function pointer\n"
      ],
      "metadata": {
        "colab": {
          "base_uri": "https://localhost:8080/",
          "height": 36
        },
        "id": "zgmrpR5P46NG",
        "outputId": "222e031c-2d03-43f2-9b01-838f499a4e5e"
      },
      "execution_count": 3,
      "outputs": [
        {
          "output_type": "execute_result",
          "data": {
            "text/plain": [
              "'Hi Ravi'"
            ],
            "application/vnd.google.colaboratory.intrinsic+json": {
              "type": "string"
            }
          },
          "metadata": {},
          "execution_count": 3
        }
      ]
    },
    {
      "cell_type": "markdown",
      "source": [
        "4. What is the purpose of the \"return statement in a Python function?"
      ],
      "metadata": {
        "id": "W9o4XmiA2aDT"
      }
    },
    {
      "cell_type": "markdown",
      "source": [
        "It sends a value back to the caller and terminates the function's execution.\n",
        "\n",
        "✅ Example:"
      ],
      "metadata": {
        "id": "Jpz8B06d5ufo"
      }
    },
    {
      "cell_type": "code",
      "source": [
        "def square(x):\n",
        "    return x * x\n",
        "\n",
        "result = square(4)  # returns 16\n"
      ],
      "metadata": {
        "id": "4WNAbsgq5xoK"
      },
      "execution_count": 6,
      "outputs": []
    },
    {
      "cell_type": "markdown",
      "source": [
        "5. What are iterators in Python and how do they differ from iterables?"
      ],
      "metadata": {
        "id": "Vlsx50Sm7CB1"
      }
    },
    {
      "cell_type": "markdown",
      "source": [
        "Ans ->\n",
        "\n",
        "Iterable: Can be looped over (e.g., list, tuple).\n",
        "\n",
        "Iterator: Object that keeps state and knows how to fetch the next item.\n",
        "\n",
        "✅ Example:"
      ],
      "metadata": {
        "id": "rB9kuNQ87K7_"
      }
    },
    {
      "cell_type": "code",
      "source": [
        "numbers = [1, 2, 3]  # iterable\n",
        "it = iter(numbers)   # now an iterator\n",
        "\n",
        "print(next(it))      # Output: 1\n"
      ],
      "metadata": {
        "colab": {
          "base_uri": "https://localhost:8080/"
        },
        "id": "6DXcvtG37S_Y",
        "outputId": "3b071b8d-c34f-4945-f0aa-6c0a75066d99"
      },
      "execution_count": 9,
      "outputs": [
        {
          "output_type": "stream",
          "name": "stdout",
          "text": [
            "1\n"
          ]
        }
      ]
    },
    {
      "cell_type": "markdown",
      "source": [
        "6. Explain the concept of generators in Python and how they are defined."
      ],
      "metadata": {
        "id": "IDoKXdCH2igL"
      }
    },
    {
      "cell_type": "markdown",
      "source": [
        "Ans ->\n",
        "\n",
        "Generators are functions that yield values one at a time.\n",
        "\n",
        "Use yield instead of return.\n",
        "\n",
        "✅ Example:"
      ],
      "metadata": {
        "id": "7nsAnxz853wn"
      }
    },
    {
      "cell_type": "code",
      "source": [
        "def count_up_to(n):\n",
        "    i = 1\n",
        "    while i <= n:\n",
        "        yield i\n",
        "        i += 1\n",
        "\n",
        "for val in count_up_to(3):\n",
        "    print(val)\n"
      ],
      "metadata": {
        "colab": {
          "base_uri": "https://localhost:8080/"
        },
        "id": "B2vXKLLX5-Or",
        "outputId": "72ba8f8f-0e9b-4bc1-ff7b-3addb50567d1"
      },
      "execution_count": 10,
      "outputs": [
        {
          "output_type": "stream",
          "name": "stdout",
          "text": [
            "1\n",
            "2\n",
            "3\n"
          ]
        }
      ]
    },
    {
      "cell_type": "markdown",
      "source": [
        "7. What are the advantages of using generators over regular functions?"
      ],
      "metadata": {
        "id": "X5w6cucY2lee"
      }
    },
    {
      "cell_type": "markdown",
      "source": [
        "Ans ->\n",
        "\n",
        "Memory-efficient: Yield items one at a time.\n",
        "\n",
        "Lazy evaluation: Only compute when needed.\n",
        "\n",
        "Suitable for large datasets.\n",
        "\n",
        "✅ Example:"
      ],
      "metadata": {
        "id": "F1YiKKOq6ELK"
      }
    },
    {
      "cell_type": "code",
      "source": [
        "def generate_numbers():\n",
        "    for i in range(1000000):\n",
        "        yield i\n"
      ],
      "metadata": {
        "id": "UZKS2a406H-I"
      },
      "execution_count": 11,
      "outputs": []
    },
    {
      "cell_type": "markdown",
      "source": [
        "8. What is a lambda function in Python and when is it typically used?"
      ],
      "metadata": {
        "id": "2m4SpAp32mdD"
      }
    },
    {
      "cell_type": "markdown",
      "source": [
        "Ans ->\n",
        "\n",
        "A small anonymous function defined using lambda.\n",
        "\n",
        "Used for short-term use, especially with map(), filter(), etc.\n",
        "\n",
        "✅ Example:"
      ],
      "metadata": {
        "id": "SVlXS81E7v9n"
      }
    },
    {
      "cell_type": "code",
      "source": [
        "square = lambda x: x * x\n",
        "print(square(5))  # Output: 25\n"
      ],
      "metadata": {
        "colab": {
          "base_uri": "https://localhost:8080/"
        },
        "id": "Ce9VudSP71Ps",
        "outputId": "f78988fc-6979-4fe8-8ec1-9b92fb96f503"
      },
      "execution_count": 12,
      "outputs": [
        {
          "output_type": "stream",
          "name": "stdout",
          "text": [
            "25\n"
          ]
        }
      ]
    },
    {
      "cell_type": "markdown",
      "source": [
        "9. Explain the purpose and usage of the 'map() function in Python."
      ],
      "metadata": {
        "id": "Oa49WnQA2yeF"
      }
    },
    {
      "cell_type": "markdown",
      "source": [
        "Ans ->\n",
        "\n",
        "Applies a function to each item in an iterable.\n",
        "\n",
        "Returns a map object (needs to be converted to a list or iterated).\n",
        "\n",
        "✅ Example:"
      ],
      "metadata": {
        "id": "QAkpDbNP757w"
      }
    },
    {
      "cell_type": "code",
      "source": [
        "nums = [1, 2, 3]\n",
        "squares = list(map(lambda x: x**2, nums))  # [1, 4, 9]\n"
      ],
      "metadata": {
        "id": "HV0nVoH17_XT"
      },
      "execution_count": 15,
      "outputs": []
    },
    {
      "cell_type": "markdown",
      "source": [
        "10. What is the difference between map()', 'reduce()\", and \"filter() functions in Python?"
      ],
      "metadata": {
        "id": "VP_yq8g52z2Z"
      }
    },
    {
      "cell_type": "markdown",
      "source": [
        "Ans ->\n",
        "\n",
        "| Function   | Purpose                                            | Returns      |\n",
        "| ---------- | -------------------------------------------------- | ------------ |\n",
        "| `map()`    | Applies a function to all items in an iterable     | New iterable |\n",
        "| `reduce()` | Applies a rolling computation (e.g., sum, product) | Single value |\n",
        "| `filter()` | Filters items that meet a condition                | New iterable |\n"
      ],
      "metadata": {
        "id": "AOUXhCBT8Qd3"
      }
    },
    {
      "cell_type": "code",
      "source": [
        "from functools import reduce\n",
        "\n",
        "nums = [1, 2, 3, 4]\n",
        "\n",
        "# map\n",
        "squares = list(map(lambda x: x**2, nums))  # [1, 4, 9, 16]\n",
        "\n",
        "# reduce\n",
        "total = reduce(lambda x, y: x + y, nums)   # 10\n",
        "\n",
        "# filter\n",
        "evens = list(filter(lambda x: x % 2 == 0, nums))  # [2, 4]\n"
      ],
      "metadata": {
        "id": "mCtQwioa8SPm"
      },
      "execution_count": 17,
      "outputs": []
    },
    {
      "cell_type": "markdown",
      "source": [
        "11. Using pen & Paper write the internal mechanism for sum operation using reduce function on this given list: [47,11,42,13]:"
      ],
      "metadata": {
        "id": "03b96HnL27ny"
      }
    },
    {
      "cell_type": "code",
      "source": [
        "#You are performing:\n",
        "\n",
        "from functools import reduce\n",
        "\n",
        "reduce(lambda x, y: x + y, [47, 11, 42, 13])"
      ],
      "metadata": {
        "colab": {
          "base_uri": "https://localhost:8080/"
        },
        "id": "UeTlNXKZ8Zo4",
        "outputId": "cdf6f3f3-e51a-448b-a583-a5f463dbd818"
      },
      "execution_count": 18,
      "outputs": [
        {
          "output_type": "execute_result",
          "data": {
            "text/plain": [
              "113"
            ]
          },
          "metadata": {},
          "execution_count": 18
        }
      ]
    },
    {
      "cell_type": "markdown",
      "source": [
        "Step-by-step:\n",
        "First call: x = 47, y = 11 → result = 58\n",
        "\n",
        "Second call: x = 58, y = 42 → result = 100\n",
        "\n",
        "Third call: x = 100, y = 13 → result = 113\n",
        "\n",
        "✅ Final result: 113\n",
        "\n",
        "---\n",
        "\n"
      ],
      "metadata": {
        "id": "N3hBOKgo8gFP"
      }
    },
    {
      "cell_type": "markdown",
      "source": [
        "# ***Practical Questions:***\n",
        "\n",
        "---\n",
        "\n"
      ],
      "metadata": {
        "id": "QD6dq9fd9Uk4"
      }
    },
    {
      "cell_type": "markdown",
      "source": [
        "1. Write a Python function that takes a list of numbers as input and returns the sum of all even numbers in the list."
      ],
      "metadata": {
        "id": "akVhaTb89nR7"
      }
    },
    {
      "cell_type": "code",
      "source": [
        "def sum_even_numbers(numbers):\n",
        "    return sum(num for num in numbers if num % 2 == 0)\n",
        "\n",
        "# Example\n",
        "print(sum_even_numbers([1, 2, 3, 4, 5, 6]))  # Output: 12\n"
      ],
      "metadata": {
        "colab": {
          "base_uri": "https://localhost:8080/"
        },
        "id": "K9pwCEqE-Ug2",
        "outputId": "ca486e96-f6b2-4e7c-ee2f-58826c4b0922"
      },
      "execution_count": 19,
      "outputs": [
        {
          "output_type": "stream",
          "name": "stdout",
          "text": [
            "12\n"
          ]
        }
      ]
    },
    {
      "cell_type": "markdown",
      "source": [
        "2. Create a Python function that accepts a string and returns the reverse of that string."
      ],
      "metadata": {
        "id": "tYc2FTul9n4L"
      }
    },
    {
      "cell_type": "code",
      "source": [
        "def reverse_string(s):\n",
        "    return s[::-1]\n",
        "\n",
        "# Example\n",
        "print(reverse_string(\"Dhiraj\"))  # Output: jarihD\n"
      ],
      "metadata": {
        "colab": {
          "base_uri": "https://localhost:8080/"
        },
        "id": "58Zi1APW-XTa",
        "outputId": "9cb03861-91c4-49a3-978a-fcfdae2acf39"
      },
      "execution_count": 20,
      "outputs": [
        {
          "output_type": "stream",
          "name": "stdout",
          "text": [
            "jarihD\n"
          ]
        }
      ]
    },
    {
      "cell_type": "markdown",
      "source": [
        "3. Implement a Python function that takes a list of integers and returns a new list containing the squares of each number."
      ],
      "metadata": {
        "id": "60dEERM29pim"
      }
    },
    {
      "cell_type": "code",
      "source": [
        "def square_list(numbers):\n",
        "    return [x**2 for x in numbers]\n",
        "\n",
        "# Example\n",
        "print(square_list([1, 2, 3]))  # Output: [1, 4, 9]\n"
      ],
      "metadata": {
        "colab": {
          "base_uri": "https://localhost:8080/"
        },
        "id": "DVQh8CQL-Z5P",
        "outputId": "c40ca414-fa2b-4af0-a4c3-5cf5f3e4b53a"
      },
      "execution_count": 21,
      "outputs": [
        {
          "output_type": "stream",
          "name": "stdout",
          "text": [
            "[1, 4, 9]\n"
          ]
        }
      ]
    },
    {
      "cell_type": "markdown",
      "source": [
        "4. Write a Python function that checks if a given number is prime or not from 1 to 200."
      ],
      "metadata": {
        "id": "_LcG6TGZ9rYM"
      }
    },
    {
      "cell_type": "code",
      "source": [
        "def is_prime(n):\n",
        "    if n <= 1:\n",
        "        return False\n",
        "    for i in range(2, int(n**0.5)+1):\n",
        "        if n % i == 0:\n",
        "            return False\n",
        "    return True\n",
        "\n",
        "# Print all primes from 1 to 200\n",
        "primes = [x for x in range(1, 201) if is_prime(x)]\n",
        "print(primes)\n"
      ],
      "metadata": {
        "colab": {
          "base_uri": "https://localhost:8080/"
        },
        "id": "4YqtOwc_-cgl",
        "outputId": "a2b9ba22-0853-4197-ed0b-a5877a163540"
      },
      "execution_count": 22,
      "outputs": [
        {
          "output_type": "stream",
          "name": "stdout",
          "text": [
            "[2, 3, 5, 7, 11, 13, 17, 19, 23, 29, 31, 37, 41, 43, 47, 53, 59, 61, 67, 71, 73, 79, 83, 89, 97, 101, 103, 107, 109, 113, 127, 131, 137, 139, 149, 151, 157, 163, 167, 173, 179, 181, 191, 193, 197, 199]\n"
          ]
        }
      ]
    },
    {
      "cell_type": "markdown",
      "source": [
        "5. Create an iterator class in Python that generates the Fibonacci sequence up to a specified number of terms."
      ],
      "metadata": {
        "id": "djmENx_L9tqA"
      }
    },
    {
      "cell_type": "code",
      "source": [
        "class FibonacciIterator:\n",
        "    def __init__(self, max_terms):\n",
        "        self.max_terms = max_terms\n",
        "        self.a, self.b = 0, 1\n",
        "        self.count = 0\n",
        "\n",
        "    def __iter__(self):\n",
        "        return self\n",
        "\n",
        "    def __next__(self):\n",
        "        if self.count >= self.max_terms:\n",
        "            raise StopIteration\n",
        "        self.count += 1\n",
        "        self.a, self.b = self.b, self.a + self.b\n",
        "        return self.a\n",
        "\n",
        "# Example\n",
        "for num in FibonacciIterator(7):\n",
        "    print(num)\n"
      ],
      "metadata": {
        "colab": {
          "base_uri": "https://localhost:8080/"
        },
        "id": "KMMV0hh1-pO5",
        "outputId": "08cb714b-d144-4d52-b3c7-b51450c3ec05"
      },
      "execution_count": 23,
      "outputs": [
        {
          "output_type": "stream",
          "name": "stdout",
          "text": [
            "1\n",
            "1\n",
            "2\n",
            "3\n",
            "5\n",
            "8\n",
            "13\n"
          ]
        }
      ]
    },
    {
      "cell_type": "markdown",
      "source": [
        "6. Write a generator function in Python that yields the powers of 2 up to a given exponent."
      ],
      "metadata": {
        "id": "7FVzvsxM9vmf"
      }
    },
    {
      "cell_type": "code",
      "source": [
        "def powers_of_two(max_exponent):\n",
        "    for i in range(max_exponent + 1):\n",
        "        yield 2 ** i\n",
        "\n",
        "# Example\n",
        "for power in powers_of_two(5):\n",
        "    print(power)\n"
      ],
      "metadata": {
        "colab": {
          "base_uri": "https://localhost:8080/"
        },
        "id": "I_-XW3DN-sBn",
        "outputId": "c2f8ce49-4792-4165-bb14-e4f77ebcd507"
      },
      "execution_count": 24,
      "outputs": [
        {
          "output_type": "stream",
          "name": "stdout",
          "text": [
            "1\n",
            "2\n",
            "4\n",
            "8\n",
            "16\n",
            "32\n"
          ]
        }
      ]
    },
    {
      "cell_type": "markdown",
      "source": [
        "7. implement a generator function that reads a file line by line and yields each line as a string."
      ],
      "metadata": {
        "id": "tghbiGeY9xSz"
      }
    },
    {
      "cell_type": "code",
      "source": [
        "def read_lines(filename):\n",
        "    with open(filename, 'r') as file:\n",
        "        for line in file:\n",
        "            yield line.strip()\n",
        "\n",
        "# Example\n",
        "# for line in read_lines('example.txt'):\n",
        "#     print(line)\n"
      ],
      "metadata": {
        "id": "FYYJIpOv-uIn"
      },
      "execution_count": 25,
      "outputs": []
    },
    {
      "cell_type": "markdown",
      "source": [
        "8. Use a lambda function in Python to sort a list of tuples based on the second element of each tuple."
      ],
      "metadata": {
        "id": "EL8kQEoa9zL8"
      }
    },
    {
      "cell_type": "code",
      "source": [
        "data = [(1, 3), (2, 1), (4, 2)]\n",
        "sorted_data = sorted(data, key=lambda x: x[1])\n",
        "print(sorted_data)  # Output: [(2, 1), (4, 2), (1, 3)]\n"
      ],
      "metadata": {
        "colab": {
          "base_uri": "https://localhost:8080/"
        },
        "id": "EaXK-ipi-xYD",
        "outputId": "7163ce36-063c-443f-9dfb-568218123b7d"
      },
      "execution_count": 26,
      "outputs": [
        {
          "output_type": "stream",
          "name": "stdout",
          "text": [
            "[(2, 1), (4, 2), (1, 3)]\n"
          ]
        }
      ]
    },
    {
      "cell_type": "markdown",
      "source": [
        "9. Write a Python program that uses 'map() to convert a list of temperatures from Celsius to Fahrenheit."
      ],
      "metadata": {
        "id": "qrcaIkqV929M"
      }
    },
    {
      "cell_type": "code",
      "source": [
        "celsius = [0, 20, 37, 100]\n",
        "fahrenheit = list(map(lambda c: (c * 9/5) + 32, celsius))\n",
        "print(fahrenheit)  # Output: [32.0, 68.0, 98.6, 212.0]\n"
      ],
      "metadata": {
        "colab": {
          "base_uri": "https://localhost:8080/"
        },
        "id": "WbA3qgjp-z4-",
        "outputId": "9638db70-49a6-4824-902f-3b63733ed63a"
      },
      "execution_count": 27,
      "outputs": [
        {
          "output_type": "stream",
          "name": "stdout",
          "text": [
            "[32.0, 68.0, 98.6, 212.0]\n"
          ]
        }
      ]
    },
    {
      "cell_type": "markdown",
      "source": [
        "10. Create a Python program that uses filter() to remove all the vowels from a given string."
      ],
      "metadata": {
        "id": "ODBCJa6294-r"
      }
    },
    {
      "cell_type": "code",
      "source": [
        "def remove_vowels(s):\n",
        "    return ''.join(filter(lambda x: x.lower() not in 'aeiou', s))\n",
        "\n",
        "print(remove_vowels(\"Dhiraj Shingane\"))  # Output: Dhrj Shngn\n"
      ],
      "metadata": {
        "colab": {
          "base_uri": "https://localhost:8080/"
        },
        "id": "myIYfpG2-2JD",
        "outputId": "466b3a04-c846-4b82-b58b-0d2ab120a542"
      },
      "execution_count": 28,
      "outputs": [
        {
          "output_type": "stream",
          "name": "stdout",
          "text": [
            "Dhrj Shngn\n"
          ]
        }
      ]
    },
    {
      "cell_type": "markdown",
      "source": [
        "11. Imagine an accounting routine used in a book shop. It works on a list with sublists, which look like this:\n",
        "\n",
        "\n",
        "\n",
        "Write a Python program, which returns a list with 2-tuples. Each tuple consists of the order number and the product of the price per item and the quantity. The product should be increased by 10.-C if the value of the order is smaller than 100,00 €."
      ],
      "metadata": {
        "id": "sSj9qE1q-DmD"
      }
    },
    {
      "cell_type": "code",
      "source": [
        "orders = [\n",
        "    (34587, \"Learning Python, Mark Lutz\", 4, 40.95),\n",
        "    (98762, \"Programming Python, Mark Lutz\", 5, 56.80),\n",
        "    (77226, \"Head First Python, Paul Barry\", 3, 32.95),\n",
        "    (88112, \"Einführung in Python3, Bernd Klein\", 3, 24.99)\n",
        "]\n",
        "\n",
        "result = list(map(\n",
        "    lambda order: (\n",
        "        order[0],\n",
        "        round(order[2] * order[3] + (10 if order[2] * order[3] < 100 else 0), 2)\n",
        "    ),\n",
        "    orders\n",
        "))\n",
        "\n",
        "print(result)\n"
      ],
      "metadata": {
        "id": "IKU-UyuS-5Sw",
        "outputId": "fc3d3362-6f4f-4c93-9959-8a0fa9d3da00",
        "colab": {
          "base_uri": "https://localhost:8080/"
        }
      },
      "execution_count": 29,
      "outputs": [
        {
          "output_type": "stream",
          "name": "stdout",
          "text": [
            "[(34587, 163.8), (98762, 284.0), (77226, 108.85), (88112, 84.97)]\n"
          ]
        }
      ]
    }
  ]
}